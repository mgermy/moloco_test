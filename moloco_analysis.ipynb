{
 "cells": [
  {
   "cell_type": "markdown",
   "metadata": {},
   "source": [
    "Suppose you have time-series data consisting of (timestamp, user_id, country_id, site_id).\n",
    "Each entry (row) is created when a user (of user_id) from some country (country_id) visited a certain website (site_id) at a certain time (timestamp).\n",
    "\n",
    "We want to analyze this data.\n",
    "You can find the data here:\n",
    "https://docs.google.com/spreadsheets/d/1AV-A1uhQqvF6h0_a-fupFQIHv6W7-vNm88AYh_WzeB0/edit#gid=1326833441\n",
    "\n",
    "For instance, in row 2 you will see the following row:\n",
    "\"2019-02-01 00:01:24\tLC36FC\tTL6\tN0OTG\"\n",
    "This tells us that at \"2019-02-01 00:01:24\" user \"LC36FC\" from country \"TL6\" visited website \"N0OTG\".\n",
    "\n",
    "The sheet contains 3554 rows (including the header) and four columns (ts for timestamp, user_id, country_id, site_id).\n",
    "\n",
    "Using any programming/query language and free/commercial tools you like, answer the following questions. \n",
    "At the end, briefly describe how you computed the answers (and provide a link to code if any)."
   ]
  },
  {
   "cell_type": "code",
   "execution_count": 307,
   "metadata": {},
   "outputs": [],
   "source": [
    "#start libraries \n",
    "import pandas as pd\n",
    "import numpy as np "
   ]
  },
  {
   "cell_type": "code",
   "execution_count": 308,
   "metadata": {},
   "outputs": [
    {
     "data": {
      "text/html": [
       "<div>\n",
       "<style scoped>\n",
       "    .dataframe tbody tr th:only-of-type {\n",
       "        vertical-align: middle;\n",
       "    }\n",
       "\n",
       "    .dataframe tbody tr th {\n",
       "        vertical-align: top;\n",
       "    }\n",
       "\n",
       "    .dataframe thead th {\n",
       "        text-align: right;\n",
       "    }\n",
       "</style>\n",
       "<table border=\"1\" class=\"dataframe\">\n",
       "  <thead>\n",
       "    <tr style=\"text-align: right;\">\n",
       "      <th></th>\n",
       "      <th>ts</th>\n",
       "      <th>user_id</th>\n",
       "      <th>country_id</th>\n",
       "      <th>site_id</th>\n",
       "    </tr>\n",
       "  </thead>\n",
       "  <tbody>\n",
       "    <tr>\n",
       "      <th>0</th>\n",
       "      <td>2019-02-01 00:01:24</td>\n",
       "      <td>LC36FC</td>\n",
       "      <td>TL6</td>\n",
       "      <td>N0OTG</td>\n",
       "    </tr>\n",
       "    <tr>\n",
       "      <th>1</th>\n",
       "      <td>2019-02-01 00:10:19</td>\n",
       "      <td>LC39B6</td>\n",
       "      <td>TL6</td>\n",
       "      <td>N0OTG</td>\n",
       "    </tr>\n",
       "    <tr>\n",
       "      <th>2</th>\n",
       "      <td>2019-02-01 00:21:50</td>\n",
       "      <td>LC3500</td>\n",
       "      <td>TL6</td>\n",
       "      <td>N0OTG</td>\n",
       "    </tr>\n",
       "    <tr>\n",
       "      <th>3</th>\n",
       "      <td>2019-02-01 00:22:50</td>\n",
       "      <td>LC374F</td>\n",
       "      <td>TL6</td>\n",
       "      <td>N0OTG</td>\n",
       "    </tr>\n",
       "    <tr>\n",
       "      <th>4</th>\n",
       "      <td>2019-02-01 00:23:44</td>\n",
       "      <td>LCC1C3</td>\n",
       "      <td>TL6</td>\n",
       "      <td>QGO3G</td>\n",
       "    </tr>\n",
       "    <tr>\n",
       "      <th>...</th>\n",
       "      <td>...</td>\n",
       "      <td>...</td>\n",
       "      <td>...</td>\n",
       "      <td>...</td>\n",
       "    </tr>\n",
       "    <tr>\n",
       "      <th>3548</th>\n",
       "      <td>2019-02-07 23:56:57</td>\n",
       "      <td>LC3F13</td>\n",
       "      <td>TL6</td>\n",
       "      <td>QGO3G</td>\n",
       "    </tr>\n",
       "    <tr>\n",
       "      <th>3549</th>\n",
       "      <td>2019-02-07 23:58:36</td>\n",
       "      <td>LC3842</td>\n",
       "      <td>HVQ</td>\n",
       "      <td>3POLC</td>\n",
       "    </tr>\n",
       "    <tr>\n",
       "      <th>3550</th>\n",
       "      <td>2019-02-07 23:58:56</td>\n",
       "      <td>LC35EB</td>\n",
       "      <td>TL6</td>\n",
       "      <td>QGO3G</td>\n",
       "    </tr>\n",
       "    <tr>\n",
       "      <th>3551</th>\n",
       "      <td>2019-02-07 23:59:19</td>\n",
       "      <td>LC3842</td>\n",
       "      <td>HVQ</td>\n",
       "      <td>3POLC</td>\n",
       "    </tr>\n",
       "    <tr>\n",
       "      <th>3552</th>\n",
       "      <td>2019-02-07 23:59:37</td>\n",
       "      <td>LC3842</td>\n",
       "      <td>HVQ</td>\n",
       "      <td>3POLC</td>\n",
       "    </tr>\n",
       "  </tbody>\n",
       "</table>\n",
       "<p>3553 rows × 4 columns</p>\n",
       "</div>"
      ],
      "text/plain": [
       "                       ts user_id country_id site_id\n",
       "0     2019-02-01 00:01:24  LC36FC        TL6   N0OTG\n",
       "1     2019-02-01 00:10:19  LC39B6        TL6   N0OTG\n",
       "2     2019-02-01 00:21:50  LC3500        TL6   N0OTG\n",
       "3     2019-02-01 00:22:50  LC374F        TL6   N0OTG\n",
       "4     2019-02-01 00:23:44  LCC1C3        TL6   QGO3G\n",
       "...                   ...     ...        ...     ...\n",
       "3548  2019-02-07 23:56:57  LC3F13        TL6   QGO3G\n",
       "3549  2019-02-07 23:58:36  LC3842        HVQ   3POLC\n",
       "3550  2019-02-07 23:58:56  LC35EB        TL6   QGO3G\n",
       "3551  2019-02-07 23:59:19  LC3842        HVQ   3POLC\n",
       "3552  2019-02-07 23:59:37  LC3842        HVQ   3POLC\n",
       "\n",
       "[3553 rows x 4 columns]"
      ]
     },
     "execution_count": 308,
     "metadata": {},
     "output_type": "execute_result"
    }
   ],
   "source": [
    "#let's import and take a look at the data \n",
    "df = pd.read_csv('data_moloco.csv')\n",
    "df"
   ]
  },
  {
   "cell_type": "markdown",
   "metadata": {},
   "source": [
    "The data is composed of categorical variables only. Before we start answering the questions, let's just check if there are any NaNs in the dataset and the type of each column."
   ]
  },
  {
   "cell_type": "code",
   "execution_count": 309,
   "metadata": {},
   "outputs": [
    {
     "data": {
      "text/plain": [
       "ts            0.0\n",
       "user_id       0.0\n",
       "country_id    0.0\n",
       "site_id       0.0\n",
       "dtype: float64"
      ]
     },
     "execution_count": 309,
     "metadata": {},
     "output_type": "execute_result"
    }
   ],
   "source": [
    "df.isna().mean().round(4) * 100"
   ]
  },
  {
   "cell_type": "markdown",
   "metadata": {},
   "source": [
    "We have no missing data in the dataset. This is great, but we also need to check the dtype of each column. For instance, ts is the timestamp so we want pandas to understand it as time, so it will make our lives easier"
   ]
  },
  {
   "cell_type": "code",
   "execution_count": 310,
   "metadata": {},
   "outputs": [
    {
     "data": {
      "text/html": [
       "<div>\n",
       "<style scoped>\n",
       "    .dataframe tbody tr th:only-of-type {\n",
       "        vertical-align: middle;\n",
       "    }\n",
       "\n",
       "    .dataframe tbody tr th {\n",
       "        vertical-align: top;\n",
       "    }\n",
       "\n",
       "    .dataframe thead th {\n",
       "        text-align: right;\n",
       "    }\n",
       "</style>\n",
       "<table border=\"1\" class=\"dataframe\">\n",
       "  <thead>\n",
       "    <tr style=\"text-align: right;\">\n",
       "      <th></th>\n",
       "      <th>Type</th>\n",
       "    </tr>\n",
       "  </thead>\n",
       "  <tbody>\n",
       "    <tr>\n",
       "      <th>ts</th>\n",
       "      <td>object</td>\n",
       "    </tr>\n",
       "    <tr>\n",
       "      <th>user_id</th>\n",
       "      <td>object</td>\n",
       "    </tr>\n",
       "    <tr>\n",
       "      <th>country_id</th>\n",
       "      <td>object</td>\n",
       "    </tr>\n",
       "    <tr>\n",
       "      <th>site_id</th>\n",
       "      <td>object</td>\n",
       "    </tr>\n",
       "  </tbody>\n",
       "</table>\n",
       "</div>"
      ],
      "text/plain": [
       "              Type\n",
       "ts          object\n",
       "user_id     object\n",
       "country_id  object\n",
       "site_id     object"
      ]
     },
     "execution_count": 310,
     "metadata": {},
     "output_type": "execute_result"
    }
   ],
   "source": [
    "pd.DataFrame(df.dtypes, columns=['Type'])"
   ]
  },
  {
   "cell_type": "markdown",
   "metadata": {},
   "source": [
    "We see that ```ts``` is defined as an object, not a date type. Let's convert it to a date type."
   ]
  },
  {
   "cell_type": "code",
   "execution_count": 311,
   "metadata": {},
   "outputs": [
    {
     "data": {
      "text/html": [
       "<div>\n",
       "<style scoped>\n",
       "    .dataframe tbody tr th:only-of-type {\n",
       "        vertical-align: middle;\n",
       "    }\n",
       "\n",
       "    .dataframe tbody tr th {\n",
       "        vertical-align: top;\n",
       "    }\n",
       "\n",
       "    .dataframe thead th {\n",
       "        text-align: right;\n",
       "    }\n",
       "</style>\n",
       "<table border=\"1\" class=\"dataframe\">\n",
       "  <thead>\n",
       "    <tr style=\"text-align: right;\">\n",
       "      <th></th>\n",
       "      <th>Type</th>\n",
       "    </tr>\n",
       "  </thead>\n",
       "  <tbody>\n",
       "    <tr>\n",
       "      <th>ts</th>\n",
       "      <td>datetime64[ns]</td>\n",
       "    </tr>\n",
       "    <tr>\n",
       "      <th>user_id</th>\n",
       "      <td>object</td>\n",
       "    </tr>\n",
       "    <tr>\n",
       "      <th>country_id</th>\n",
       "      <td>object</td>\n",
       "    </tr>\n",
       "    <tr>\n",
       "      <th>site_id</th>\n",
       "      <td>object</td>\n",
       "    </tr>\n",
       "  </tbody>\n",
       "</table>\n",
       "</div>"
      ],
      "text/plain": [
       "                      Type\n",
       "ts          datetime64[ns]\n",
       "user_id             object\n",
       "country_id          object\n",
       "site_id             object"
      ]
     },
     "execution_count": 311,
     "metadata": {},
     "output_type": "execute_result"
    }
   ],
   "source": [
    "df['ts'] =pd.to_datetime(df['ts'], format=\"%Y-%m-%d %H:%M:%S\")\n",
    "pd.DataFrame(df.dtypes, columns=['Type'])"
   ]
  },
  {
   "cell_type": "markdown",
   "metadata": {},
   "source": [
    "Now we are all set! Let's start answering the questions"
   ]
  },
  {
   "cell_type": "markdown",
   "metadata": {},
   "source": [
    "### Q1: Consider only the rows with ```country_id = \"BDV\"``` (there are 844 such rows). For each ```site_id```, we can compute the number of unique user_id's found in these 844 rows. Which ```site_id``` has the largest number of unique users? And what's the number?"
   ]
  },
  {
   "cell_type": "code",
   "execution_count": 312,
   "metadata": {
    "scrolled": false
   },
   "outputs": [
    {
     "data": {
      "text/html": [
       "<div>\n",
       "<style scoped>\n",
       "    .dataframe tbody tr th:only-of-type {\n",
       "        vertical-align: middle;\n",
       "    }\n",
       "\n",
       "    .dataframe tbody tr th {\n",
       "        vertical-align: top;\n",
       "    }\n",
       "\n",
       "    .dataframe thead th {\n",
       "        text-align: right;\n",
       "    }\n",
       "</style>\n",
       "<table border=\"1\" class=\"dataframe\">\n",
       "  <thead>\n",
       "    <tr style=\"text-align: right;\">\n",
       "      <th></th>\n",
       "      <th>ts</th>\n",
       "      <th>user_id</th>\n",
       "      <th>country_id</th>\n",
       "      <th>site_id</th>\n",
       "    </tr>\n",
       "  </thead>\n",
       "  <tbody>\n",
       "    <tr>\n",
       "      <th>13</th>\n",
       "      <td>2019-02-01 00:47:58</td>\n",
       "      <td>LC3C22</td>\n",
       "      <td>BDV</td>\n",
       "      <td>N0OTG</td>\n",
       "    </tr>\n",
       "    <tr>\n",
       "      <th>32</th>\n",
       "      <td>2019-02-01 02:46:15</td>\n",
       "      <td>LC375A</td>\n",
       "      <td>BDV</td>\n",
       "      <td>5NPAU</td>\n",
       "    </tr>\n",
       "    <tr>\n",
       "      <th>87</th>\n",
       "      <td>2019-02-01 06:44:42</td>\n",
       "      <td>LC392E</td>\n",
       "      <td>BDV</td>\n",
       "      <td>N0OTG</td>\n",
       "    </tr>\n",
       "    <tr>\n",
       "      <th>88</th>\n",
       "      <td>2019-02-01 07:36:56</td>\n",
       "      <td>LC3FAE</td>\n",
       "      <td>BDV</td>\n",
       "      <td>5NPAU</td>\n",
       "    </tr>\n",
       "    <tr>\n",
       "      <th>94</th>\n",
       "      <td>2019-02-01 08:58:35</td>\n",
       "      <td>LC3AFF</td>\n",
       "      <td>BDV</td>\n",
       "      <td>3POLC</td>\n",
       "    </tr>\n",
       "    <tr>\n",
       "      <th>...</th>\n",
       "      <td>...</td>\n",
       "      <td>...</td>\n",
       "      <td>...</td>\n",
       "      <td>...</td>\n",
       "    </tr>\n",
       "    <tr>\n",
       "      <th>3521</th>\n",
       "      <td>2019-02-07 22:18:59</td>\n",
       "      <td>LC3ECF</td>\n",
       "      <td>BDV</td>\n",
       "      <td>5NPAU</td>\n",
       "    </tr>\n",
       "    <tr>\n",
       "      <th>3525</th>\n",
       "      <td>2019-02-07 22:26:28</td>\n",
       "      <td>LC3D63</td>\n",
       "      <td>BDV</td>\n",
       "      <td>5NPAU</td>\n",
       "    </tr>\n",
       "    <tr>\n",
       "      <th>3526</th>\n",
       "      <td>2019-02-07 22:27:29</td>\n",
       "      <td>LC3005</td>\n",
       "      <td>BDV</td>\n",
       "      <td>5NPAU</td>\n",
       "    </tr>\n",
       "    <tr>\n",
       "      <th>3530</th>\n",
       "      <td>2019-02-07 22:57:34</td>\n",
       "      <td>LC3C51</td>\n",
       "      <td>BDV</td>\n",
       "      <td>5NPAU</td>\n",
       "    </tr>\n",
       "    <tr>\n",
       "      <th>3535</th>\n",
       "      <td>2019-02-07 23:11:22</td>\n",
       "      <td>LCFAC3</td>\n",
       "      <td>BDV</td>\n",
       "      <td>N0OTG</td>\n",
       "    </tr>\n",
       "  </tbody>\n",
       "</table>\n",
       "<p>844 rows × 4 columns</p>\n",
       "</div>"
      ],
      "text/plain": [
       "                      ts user_id country_id site_id\n",
       "13   2019-02-01 00:47:58  LC3C22        BDV   N0OTG\n",
       "32   2019-02-01 02:46:15  LC375A        BDV   5NPAU\n",
       "87   2019-02-01 06:44:42  LC392E        BDV   N0OTG\n",
       "88   2019-02-01 07:36:56  LC3FAE        BDV   5NPAU\n",
       "94   2019-02-01 08:58:35  LC3AFF        BDV   3POLC\n",
       "...                  ...     ...        ...     ...\n",
       "3521 2019-02-07 22:18:59  LC3ECF        BDV   5NPAU\n",
       "3525 2019-02-07 22:26:28  LC3D63        BDV   5NPAU\n",
       "3526 2019-02-07 22:27:29  LC3005        BDV   5NPAU\n",
       "3530 2019-02-07 22:57:34  LC3C51        BDV   5NPAU\n",
       "3535 2019-02-07 23:11:22  LCFAC3        BDV   N0OTG\n",
       "\n",
       "[844 rows x 4 columns]"
      ]
     },
     "execution_count": 312,
     "metadata": {},
     "output_type": "execute_result"
    }
   ],
   "source": [
    "#extract only country_id = \"BDV\"\n",
    "df_bdv = df[df.country_id == 'BDV']\n",
    "df_bdv"
   ]
  },
  {
   "cell_type": "markdown",
   "metadata": {},
   "source": [
    "Now we check the number of unique user per ```site_id```"
   ]
  },
  {
   "cell_type": "code",
   "execution_count": 313,
   "metadata": {},
   "outputs": [
    {
     "data": {
      "text/plain": [
       "site_id\n",
       "3POLC      2\n",
       "5NPAU    544\n",
       "N0OTG     90\n",
       "Name: user_id, dtype: int64"
      ]
     },
     "execution_count": 313,
     "metadata": {},
     "output_type": "execute_result"
    }
   ],
   "source": [
    "df_bdv.groupby('site_id').user_id.nunique()"
   ]
  },
  {
   "cell_type": "markdown",
   "metadata": {},
   "source": [
    "Therefore, 5NPAU has the highest number of unique users (544)."
   ]
  },
  {
   "cell_type": "markdown",
   "metadata": {},
   "source": [
    "### Q2: Between 2019-02-03 00:00:00 and 2019-02-04 23:59:59, there are four users who visited a certain site more than 10 times. Find these four users & which sites they (each) visited more than 10 times. (Simply provides four triples in the form (user_id, site_id, number of visits) in the box below.)"
   ]
  },
  {
   "cell_type": "code",
   "execution_count": 314,
   "metadata": {},
   "outputs": [
    {
     "data": {
      "text/html": [
       "<div>\n",
       "<style scoped>\n",
       "    .dataframe tbody tr th:only-of-type {\n",
       "        vertical-align: middle;\n",
       "    }\n",
       "\n",
       "    .dataframe tbody tr th {\n",
       "        vertical-align: top;\n",
       "    }\n",
       "\n",
       "    .dataframe thead th {\n",
       "        text-align: right;\n",
       "    }\n",
       "</style>\n",
       "<table border=\"1\" class=\"dataframe\">\n",
       "  <thead>\n",
       "    <tr style=\"text-align: right;\">\n",
       "      <th></th>\n",
       "      <th>user_id</th>\n",
       "      <th>country_id</th>\n",
       "      <th>site_id</th>\n",
       "    </tr>\n",
       "    <tr>\n",
       "      <th>ts</th>\n",
       "      <th></th>\n",
       "      <th></th>\n",
       "      <th></th>\n",
       "    </tr>\n",
       "  </thead>\n",
       "  <tbody>\n",
       "    <tr>\n",
       "      <th>2019-02-03 00:02:31</th>\n",
       "      <td>LC3C7E</td>\n",
       "      <td>TL6</td>\n",
       "      <td>3POLC</td>\n",
       "    </tr>\n",
       "    <tr>\n",
       "      <th>2019-02-03 00:03:09</th>\n",
       "      <td>LC3C7E</td>\n",
       "      <td>TL6</td>\n",
       "      <td>3POLC</td>\n",
       "    </tr>\n",
       "    <tr>\n",
       "      <th>2019-02-03 00:03:46</th>\n",
       "      <td>LC3C7E</td>\n",
       "      <td>TL6</td>\n",
       "      <td>3POLC</td>\n",
       "    </tr>\n",
       "    <tr>\n",
       "      <th>2019-02-03 00:04:12</th>\n",
       "      <td>LC3C7E</td>\n",
       "      <td>TL6</td>\n",
       "      <td>3POLC</td>\n",
       "    </tr>\n",
       "    <tr>\n",
       "      <th>2019-02-03 00:04:25</th>\n",
       "      <td>LC3C7E</td>\n",
       "      <td>TL6</td>\n",
       "      <td>3POLC</td>\n",
       "    </tr>\n",
       "    <tr>\n",
       "      <th>...</th>\n",
       "      <td>...</td>\n",
       "      <td>...</td>\n",
       "      <td>...</td>\n",
       "    </tr>\n",
       "    <tr>\n",
       "      <th>2019-02-04 23:54:56</th>\n",
       "      <td>LC34B0</td>\n",
       "      <td>XA7</td>\n",
       "      <td>N0OTG</td>\n",
       "    </tr>\n",
       "    <tr>\n",
       "      <th>2019-02-04 23:55:46</th>\n",
       "      <td>LC3DEA</td>\n",
       "      <td>TL6</td>\n",
       "      <td>N0OTG</td>\n",
       "    </tr>\n",
       "    <tr>\n",
       "      <th>2019-02-04 23:56:12</th>\n",
       "      <td>LC06C3</td>\n",
       "      <td>TL6</td>\n",
       "      <td>N0OTG</td>\n",
       "    </tr>\n",
       "    <tr>\n",
       "      <th>2019-02-04 23:56:54</th>\n",
       "      <td>LC06C3</td>\n",
       "      <td>TL6</td>\n",
       "      <td>N0OTG</td>\n",
       "    </tr>\n",
       "    <tr>\n",
       "      <th>2019-02-04 23:57:03</th>\n",
       "      <td>LC06C3</td>\n",
       "      <td>TL6</td>\n",
       "      <td>N0OTG</td>\n",
       "    </tr>\n",
       "  </tbody>\n",
       "</table>\n",
       "<p>1031 rows × 3 columns</p>\n",
       "</div>"
      ],
      "text/plain": [
       "                    user_id country_id site_id\n",
       "ts                                            \n",
       "2019-02-03 00:02:31  LC3C7E        TL6   3POLC\n",
       "2019-02-03 00:03:09  LC3C7E        TL6   3POLC\n",
       "2019-02-03 00:03:46  LC3C7E        TL6   3POLC\n",
       "2019-02-03 00:04:12  LC3C7E        TL6   3POLC\n",
       "2019-02-03 00:04:25  LC3C7E        TL6   3POLC\n",
       "...                     ...        ...     ...\n",
       "2019-02-04 23:54:56  LC34B0        XA7   N0OTG\n",
       "2019-02-04 23:55:46  LC3DEA        TL6   N0OTG\n",
       "2019-02-04 23:56:12  LC06C3        TL6   N0OTG\n",
       "2019-02-04 23:56:54  LC06C3        TL6   N0OTG\n",
       "2019-02-04 23:57:03  LC06C3        TL6   N0OTG\n",
       "\n",
       "[1031 rows x 3 columns]"
      ]
     },
     "execution_count": 314,
     "metadata": {},
     "output_type": "execute_result"
    }
   ],
   "source": [
    "#let's get separate only the chunk of data we need \n",
    "df_datesplit = df.set_index(df['ts']) #set the ts as the index\n",
    "df_datesplit= df_datesplit.drop(['ts'], axis=1) #drop ts so we don't have a duplicate\n",
    "df_datesplit = df_datesplit['2019-02-03 00:00:00 ':'2019-02-04 23:59:59'] #get only the chunk of data we need\n",
    "df_datesplit"
   ]
  },
  {
   "cell_type": "markdown",
   "metadata": {},
   "source": [
    "Considering that the ```country_id``` where the users accessed does not matter, one way of solving this problem easily is using counter. Counter is dictionary subclass for counting hashable objects. "
   ]
  },
  {
   "cell_type": "code",
   "execution_count": 315,
   "metadata": {},
   "outputs": [
    {
     "name": "stdout",
     "output_type": "stream",
     "text": [
      "('LC3C7E', '3POLC') 15\n",
      "('LC3A59', 'N0OTG') 26\n",
      "('LC06C3', 'N0OTG') 25\n",
      "('LC3C9D', 'N0OTG') 17\n"
     ]
    }
   ],
   "source": [
    "from collections import Counter\n",
    "\n",
    "count = Counter(list(zip(df_datesplit.user_id, df_datesplit.site_id)))\n",
    "for i,j in count.items():\n",
    "    if j>=10:\n",
    "        print(i,j)"
   ]
  },
  {
   "cell_type": "markdown",
   "metadata": {},
   "source": [
    "### Q3: For each site, compute the unique number of users whose last visit (found in the original data set) was to that site. For instance, user \"LC3561\"'s last visit is to \"N0OTG\" based on timestamp data. Based on this measure, what are top three sites? (hint: site \"3POLC\" is ranked at 5th with 28 users whose last visit in the data set was to 3POLC; simply provide three pairs in the form (site_id, number of users).)"
   ]
  },
  {
   "cell_type": "markdown",
   "metadata": {},
   "source": [
    "First, we will create a dataframe that will return us the recent visit per user"
   ]
  },
  {
   "cell_type": "code",
   "execution_count": 316,
   "metadata": {},
   "outputs": [
    {
     "data": {
      "text/html": [
       "<div>\n",
       "<style scoped>\n",
       "    .dataframe tbody tr th:only-of-type {\n",
       "        vertical-align: middle;\n",
       "    }\n",
       "\n",
       "    .dataframe tbody tr th {\n",
       "        vertical-align: top;\n",
       "    }\n",
       "\n",
       "    .dataframe thead th {\n",
       "        text-align: right;\n",
       "    }\n",
       "</style>\n",
       "<table border=\"1\" class=\"dataframe\">\n",
       "  <thead>\n",
       "    <tr style=\"text-align: right;\">\n",
       "      <th></th>\n",
       "      <th>user_id</th>\n",
       "      <th>ts</th>\n",
       "    </tr>\n",
       "  </thead>\n",
       "  <tbody>\n",
       "    <tr>\n",
       "      <th>0</th>\n",
       "      <td>LC00C3</td>\n",
       "      <td>2019-02-03 18:52:50</td>\n",
       "    </tr>\n",
       "    <tr>\n",
       "      <th>1</th>\n",
       "      <td>LC01C3</td>\n",
       "      <td>2019-02-04 11:35:10</td>\n",
       "    </tr>\n",
       "    <tr>\n",
       "      <th>2</th>\n",
       "      <td>LC05C3</td>\n",
       "      <td>2019-02-02 14:14:44</td>\n",
       "    </tr>\n",
       "    <tr>\n",
       "      <th>3</th>\n",
       "      <td>LC06C3</td>\n",
       "      <td>2019-02-07 01:16:12</td>\n",
       "    </tr>\n",
       "    <tr>\n",
       "      <th>4</th>\n",
       "      <td>LC07C3</td>\n",
       "      <td>2019-02-05 19:06:42</td>\n",
       "    </tr>\n",
       "    <tr>\n",
       "      <th>...</th>\n",
       "      <td>...</td>\n",
       "      <td>...</td>\n",
       "    </tr>\n",
       "    <tr>\n",
       "      <th>1911</th>\n",
       "      <td>LCFC3B</td>\n",
       "      <td>2019-02-05 04:53:03</td>\n",
       "    </tr>\n",
       "    <tr>\n",
       "      <th>1912</th>\n",
       "      <td>LCFC3D</td>\n",
       "      <td>2019-02-01 18:59:50</td>\n",
       "    </tr>\n",
       "    <tr>\n",
       "      <th>1913</th>\n",
       "      <td>LCFC3E</td>\n",
       "      <td>2019-02-01 20:49:13</td>\n",
       "    </tr>\n",
       "    <tr>\n",
       "      <th>1914</th>\n",
       "      <td>LCFEC3</td>\n",
       "      <td>2019-02-07 06:23:59</td>\n",
       "    </tr>\n",
       "    <tr>\n",
       "      <th>1915</th>\n",
       "      <td>LCFFC3</td>\n",
       "      <td>2019-02-05 03:31:17</td>\n",
       "    </tr>\n",
       "  </tbody>\n",
       "</table>\n",
       "<p>1916 rows × 2 columns</p>\n",
       "</div>"
      ],
      "text/plain": [
       "     user_id                  ts\n",
       "0     LC00C3 2019-02-03 18:52:50\n",
       "1     LC01C3 2019-02-04 11:35:10\n",
       "2     LC05C3 2019-02-02 14:14:44\n",
       "3     LC06C3 2019-02-07 01:16:12\n",
       "4     LC07C3 2019-02-05 19:06:42\n",
       "...      ...                 ...\n",
       "1911  LCFC3B 2019-02-05 04:53:03\n",
       "1912  LCFC3D 2019-02-01 18:59:50\n",
       "1913  LCFC3E 2019-02-01 20:49:13\n",
       "1914  LCFEC3 2019-02-07 06:23:59\n",
       "1915  LCFFC3 2019-02-05 03:31:17\n",
       "\n",
       "[1916 rows x 2 columns]"
      ]
     },
     "execution_count": 316,
     "metadata": {},
     "output_type": "execute_result"
    }
   ],
   "source": [
    "most_recent = df.sort_values(\n",
    "             by='ts', ascending=False).groupby('user_id')['ts'].apply(list).apply(pd.Series).reset_index()\n",
    "\n",
    "# truncate and rename columns\n",
    "most_recent = most_recent[['user_id', 0]]\n",
    "most_recent.columns = ['user_id', 'ts']\n",
    "\n",
    "#sort by date and check it \n",
    "most_recent.sort_values(by='ts')\n",
    "most_recent"
   ]
  },
  {
   "cell_type": "markdown",
   "metadata": {},
   "source": [
    "Now that we have the most recent visit by user, we join (merge in pandas language) the original dataframe with the one we created on ```ts``` and ```user_id```"
   ]
  },
  {
   "cell_type": "code",
   "execution_count": 317,
   "metadata": {},
   "outputs": [],
   "source": [
    "recent_visits = df.merge(most_recent, on=['ts', 'user_id'])\n"
   ]
  },
  {
   "cell_type": "markdown",
   "metadata": {},
   "source": [
    "Now all we have to do is group by unique websites and count it "
   ]
  },
  {
   "cell_type": "code",
   "execution_count": 318,
   "metadata": {},
   "outputs": [
    {
     "data": {
      "text/html": [
       "<div>\n",
       "<style scoped>\n",
       "    .dataframe tbody tr th:only-of-type {\n",
       "        vertical-align: middle;\n",
       "    }\n",
       "\n",
       "    .dataframe tbody tr th {\n",
       "        vertical-align: top;\n",
       "    }\n",
       "\n",
       "    .dataframe thead th {\n",
       "        text-align: right;\n",
       "    }\n",
       "</style>\n",
       "<table border=\"1\" class=\"dataframe\">\n",
       "  <thead>\n",
       "    <tr style=\"text-align: right;\">\n",
       "      <th></th>\n",
       "      <th>ts</th>\n",
       "      <th>user_id</th>\n",
       "      <th>country_id</th>\n",
       "    </tr>\n",
       "    <tr>\n",
       "      <th>site_id</th>\n",
       "      <th></th>\n",
       "      <th></th>\n",
       "      <th></th>\n",
       "    </tr>\n",
       "  </thead>\n",
       "  <tbody>\n",
       "    <tr>\n",
       "      <th>5NPAU</th>\n",
       "      <td>992</td>\n",
       "      <td>992</td>\n",
       "      <td>992</td>\n",
       "    </tr>\n",
       "    <tr>\n",
       "      <th>N0OTG</th>\n",
       "      <td>561</td>\n",
       "      <td>561</td>\n",
       "      <td>561</td>\n",
       "    </tr>\n",
       "    <tr>\n",
       "      <th>QGO3G</th>\n",
       "      <td>289</td>\n",
       "      <td>289</td>\n",
       "      <td>289</td>\n",
       "    </tr>\n",
       "    <tr>\n",
       "      <th>GVOFK</th>\n",
       "      <td>42</td>\n",
       "      <td>42</td>\n",
       "      <td>42</td>\n",
       "    </tr>\n",
       "    <tr>\n",
       "      <th>3POLC</th>\n",
       "      <td>28</td>\n",
       "      <td>28</td>\n",
       "      <td>28</td>\n",
       "    </tr>\n",
       "    <tr>\n",
       "      <th>RT9Z6</th>\n",
       "      <td>2</td>\n",
       "      <td>2</td>\n",
       "      <td>2</td>\n",
       "    </tr>\n",
       "    <tr>\n",
       "      <th>EUZ/Q</th>\n",
       "      <td>1</td>\n",
       "      <td>1</td>\n",
       "      <td>1</td>\n",
       "    </tr>\n",
       "    <tr>\n",
       "      <th>JSUUP</th>\n",
       "      <td>1</td>\n",
       "      <td>1</td>\n",
       "      <td>1</td>\n",
       "    </tr>\n",
       "  </tbody>\n",
       "</table>\n",
       "</div>"
      ],
      "text/plain": [
       "          ts  user_id  country_id\n",
       "site_id                          \n",
       "5NPAU    992      992         992\n",
       "N0OTG    561      561         561\n",
       "QGO3G    289      289         289\n",
       "GVOFK     42       42          42\n",
       "3POLC     28       28          28\n",
       "RT9Z6      2        2           2\n",
       "EUZ/Q      1        1           1\n",
       "JSUUP      1        1           1"
      ]
     },
     "execution_count": 318,
     "metadata": {},
     "output_type": "execute_result"
    }
   ],
   "source": [
    "result = recent_visits.groupby('site_id').count().sort_values(by=\"user_id\",ascending=False)\n",
    "result"
   ]
  },
  {
   "cell_type": "code",
   "execution_count": 319,
   "metadata": {},
   "outputs": [
    {
     "data": {
      "image/png": "[encoded data removed]",
      "text/plain": [
       "<Figure size 432x288 with 1 Axes>"
      ]
     },
     "metadata": {
      "needs_background": "light"
     },
     "output_type": "display_data"
    }
   ],
   "source": [
    "result.plot.bar(y='user_id', use_index=True);"
   ]
  },
  {
   "cell_type": "markdown",
   "metadata": {},
   "source": [
    "We see that 5NPAU,N0OTG, and QGO3G are the websites with the biggest number of last visits, with 992, 561, and 289 accesses respectively."
   ]
  },
  {
   "cell_type": "markdown",
   "metadata": {},
   "source": [
    "### Q4: For each user, determine the first site he/she visited and the last site he/she visited based on the timestamp data. Compute the number of users whose first/last visits are to the same website. What is the number?"
   ]
  },
  {
   "cell_type": "markdown",
   "metadata": {},
   "source": [
    "Following a similar line of thought from Q3, we will first get when the user was first and last seen, then we will join the data frame on ```user_id``` and ```site_id```."
   ]
  },
  {
   "cell_type": "code",
   "execution_count": 320,
   "metadata": {},
   "outputs": [
    {
     "data": {
      "text/html": [
       "<div>\n",
       "<style scoped>\n",
       "    .dataframe tbody tr th:only-of-type {\n",
       "        vertical-align: middle;\n",
       "    }\n",
       "\n",
       "    .dataframe tbody tr th {\n",
       "        vertical-align: top;\n",
       "    }\n",
       "\n",
       "    .dataframe thead th {\n",
       "        text-align: right;\n",
       "    }\n",
       "</style>\n",
       "<table border=\"1\" class=\"dataframe\">\n",
       "  <thead>\n",
       "    <tr style=\"text-align: right;\">\n",
       "      <th></th>\n",
       "      <th>ts_x</th>\n",
       "      <th>country_id_x</th>\n",
       "      <th>site_id</th>\n",
       "      <th>ts_y</th>\n",
       "      <th>country_id_y</th>\n",
       "    </tr>\n",
       "    <tr>\n",
       "      <th>user_id</th>\n",
       "      <th></th>\n",
       "      <th></th>\n",
       "      <th></th>\n",
       "      <th></th>\n",
       "      <th></th>\n",
       "    </tr>\n",
       "  </thead>\n",
       "  <tbody>\n",
       "    <tr>\n",
       "      <th>LC00C3</th>\n",
       "      <td>2019-02-03 18:52:50</td>\n",
       "      <td>QLT</td>\n",
       "      <td>5NPAU</td>\n",
       "      <td>2019-02-03 18:52:50</td>\n",
       "      <td>QLT</td>\n",
       "    </tr>\n",
       "    <tr>\n",
       "      <th>LC01C3</th>\n",
       "      <td>2019-02-04 11:35:10</td>\n",
       "      <td>QLT</td>\n",
       "      <td>5NPAU</td>\n",
       "      <td>2019-02-04 11:35:10</td>\n",
       "      <td>QLT</td>\n",
       "    </tr>\n",
       "    <tr>\n",
       "      <th>LC05C3</th>\n",
       "      <td>2019-02-02 14:14:44</td>\n",
       "      <td>BDV</td>\n",
       "      <td>5NPAU</td>\n",
       "      <td>2019-02-02 14:14:44</td>\n",
       "      <td>BDV</td>\n",
       "    </tr>\n",
       "    <tr>\n",
       "      <th>LC06C3</th>\n",
       "      <td>2019-02-01 22:49:39</td>\n",
       "      <td>TL6</td>\n",
       "      <td>N0OTG</td>\n",
       "      <td>2019-02-07 01:16:12</td>\n",
       "      <td>TL6</td>\n",
       "    </tr>\n",
       "    <tr>\n",
       "      <th>LC07C3</th>\n",
       "      <td>2019-02-05 19:06:42</td>\n",
       "      <td>BDV</td>\n",
       "      <td>5NPAU</td>\n",
       "      <td>2019-02-05 19:06:42</td>\n",
       "      <td>BDV</td>\n",
       "    </tr>\n",
       "    <tr>\n",
       "      <th>...</th>\n",
       "      <td>...</td>\n",
       "      <td>...</td>\n",
       "      <td>...</td>\n",
       "      <td>...</td>\n",
       "      <td>...</td>\n",
       "    </tr>\n",
       "    <tr>\n",
       "      <th>LCFC38</th>\n",
       "      <td>2019-02-02 13:58:18</td>\n",
       "      <td>BDV</td>\n",
       "      <td>5NPAU</td>\n",
       "      <td>2019-02-02 13:58:18</td>\n",
       "      <td>BDV</td>\n",
       "    </tr>\n",
       "    <tr>\n",
       "      <th>LCFC3B</th>\n",
       "      <td>2019-02-05 04:53:03</td>\n",
       "      <td>TL6</td>\n",
       "      <td>N0OTG</td>\n",
       "      <td>2019-02-05 04:53:03</td>\n",
       "      <td>TL6</td>\n",
       "    </tr>\n",
       "    <tr>\n",
       "      <th>LCFC3D</th>\n",
       "      <td>2019-02-01 18:59:50</td>\n",
       "      <td>TL6</td>\n",
       "      <td>N0OTG</td>\n",
       "      <td>2019-02-01 18:59:50</td>\n",
       "      <td>TL6</td>\n",
       "    </tr>\n",
       "    <tr>\n",
       "      <th>LCFC3E</th>\n",
       "      <td>2019-02-01 20:49:08</td>\n",
       "      <td>BDV</td>\n",
       "      <td>5NPAU</td>\n",
       "      <td>2019-02-01 20:49:13</td>\n",
       "      <td>BDV</td>\n",
       "    </tr>\n",
       "    <tr>\n",
       "      <th>LCFFC3</th>\n",
       "      <td>2019-02-02 22:36:23</td>\n",
       "      <td>XA7</td>\n",
       "      <td>N0OTG</td>\n",
       "      <td>2019-02-05 03:31:17</td>\n",
       "      <td>XA7</td>\n",
       "    </tr>\n",
       "  </tbody>\n",
       "</table>\n",
       "<p>1670 rows × 5 columns</p>\n",
       "</div>"
      ],
      "text/plain": [
       "                       ts_x country_id_x site_id                ts_y  \\\n",
       "user_id                                                                \n",
       "LC00C3  2019-02-03 18:52:50          QLT   5NPAU 2019-02-03 18:52:50   \n",
       "LC01C3  2019-02-04 11:35:10          QLT   5NPAU 2019-02-04 11:35:10   \n",
       "LC05C3  2019-02-02 14:14:44          BDV   5NPAU 2019-02-02 14:14:44   \n",
       "LC06C3  2019-02-01 22:49:39          TL6   N0OTG 2019-02-07 01:16:12   \n",
       "LC07C3  2019-02-05 19:06:42          BDV   5NPAU 2019-02-05 19:06:42   \n",
       "...                     ...          ...     ...                 ...   \n",
       "LCFC38  2019-02-02 13:58:18          BDV   5NPAU 2019-02-02 13:58:18   \n",
       "LCFC3B  2019-02-05 04:53:03          TL6   N0OTG 2019-02-05 04:53:03   \n",
       "LCFC3D  2019-02-01 18:59:50          TL6   N0OTG 2019-02-01 18:59:50   \n",
       "LCFC3E  2019-02-01 20:49:08          BDV   5NPAU 2019-02-01 20:49:13   \n",
       "LCFFC3  2019-02-02 22:36:23          XA7   N0OTG 2019-02-05 03:31:17   \n",
       "\n",
       "        country_id_y  \n",
       "user_id               \n",
       "LC00C3           QLT  \n",
       "LC01C3           QLT  \n",
       "LC05C3           BDV  \n",
       "LC06C3           TL6  \n",
       "LC07C3           BDV  \n",
       "...              ...  \n",
       "LCFC38           BDV  \n",
       "LCFC3B           TL6  \n",
       "LCFC3D           TL6  \n",
       "LCFC3E           BDV  \n",
       "LCFFC3           XA7  \n",
       "\n",
       "[1670 rows x 5 columns]"
      ]
     },
     "execution_count": 320,
     "metadata": {},
     "output_type": "execute_result"
    }
   ],
   "source": [
    "first_seen = df.groupby('user_id').first()\n",
    "last_seen = df.groupby('user_id').last()\n",
    "\n",
    "df_result = first_seen.merge(last_seen, on=['user_id','site_id'],how='inner')\n",
    "df_result"
   ]
  },
  {
   "cell_type": "code",
   "execution_count": 321,
   "metadata": {},
   "outputs": [
    {
     "name": "stdout",
     "output_type": "stream",
     "text": [
      "The number of users whose first/last visits are to the same website is: 1670\n"
     ]
    }
   ],
   "source": [
    "s = 'The number of users whose first/last visits are to the same website is: ' + repr(len(df_result))\n",
    "print(s)"
   ]
  }
 ],
 "metadata": {
  "kernelspec": {
   "display_name": "Python 3",
   "language": "python",
   "name": "python3"
  },
  "language_info": {
   "codemirror_mode": {
    "name": "ipython",
    "version": 3
   },
   "file_extension": ".py",
   "mimetype": "text/x-python",
   "name": "python",
   "nbconvert_exporter": "python",
   "pygments_lexer": "ipython3",
   "version": "3.6.10"
  }
 },
 "nbformat": 4,
 "nbformat_minor": 2
}
